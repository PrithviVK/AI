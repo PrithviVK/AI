{
  "cells": [
    {
      "cell_type": "code",
      "execution_count": null,
      "metadata": {
        "id": "X73zLq6Caq9w"
      },
      "outputs": [],
      "source": [
        "import keras\n",
        "import pickle\n",
        "from keras.datasets import mnist\n",
        "from keras.models import Sequential\n",
        "from keras.layers import Dense, Dropout, Flatten\n",
        "from keras import backend as K\n",
        "from keras.models import load_model\n",
        "import matplotlib.pyplot as plt\n",
        "import random as rnd\n",
        "import numpy as np\n",
        "from sklearn.preprocessing import MinMaxScaler"
      ]
    },
    {
      "cell_type": "markdown",
      "metadata": {
        "id": "0QSSJWyzIB4P"
      },
      "source": [
        "Mounting google drive"
      ]
    },
    {
      "cell_type": "code",
      "execution_count": null,
      "metadata": {
        "id": "Bn8heYeuFkk0"
      },
      "outputs": [],
      "source": [
        "from google.colab import drive\n",
        "drive.mount('/content/drive')"
      ]
    },
    {
      "cell_type": "markdown",
      "metadata": {
        "id": "4HAO85kbd_s_"
      },
      "source": [
        "Read dataset: chef_data.pickle\n",
        "\n",
        "The inputs are 22-element binary vectors. Each element represents one of the 22 chefs, with a 1 indicating that the chef participated in a given project and a 0 meaning that they did not. The outputs are 4-element vectors."
      ]
    },
    {
      "cell_type": "code",
      "execution_count": null,
      "metadata": {
        "id": "-6YTBhsNbEyj"
      },
      "outputs": [],
      "source": [
        "with open('/content/drive/MyDrive/chef_data.pickle', 'rb') as f:\n",
        "    (x_train, y_train), (x_test, y_test) = pickle.load(f)"
      ]
    },
    {
      "cell_type": "markdown",
      "metadata": {
        "id": "iFdX0ZoxfFKQ"
      },
      "source": [
        "# Scaling outputs to be larger than 0 and less than 1\n",
        "(Not exactly 0 or 1, because we want to use the sigmoid function that can only approach but never reach these values)"
      ]
    },
    {
      "cell_type": "code",
      "execution_count": null,
      "metadata": {
        "id": "irK9ZpH9eWt4"
      },
      "outputs": [],
      "source": [
        "y_train_norm = (y_train - [-1, -1, 0, -100000]) / [12, 12, 2000, 300000]\n",
        "y_test_norm = (y_test - [-1, -1, 0, -100000]) / [12, 12, 2000, 300000]"
      ]
    },
    {
      "cell_type": "markdown",
      "metadata": {
        "id": "frrfIAQBK8L7"
      },
      "source": [
        "Question1(10 points):\n",
        "write code to get the input dimensions from x_train"
      ]
    },
    {
      "cell_type": "code",
      "execution_count": null,
      "metadata": {
        "id": "2Sl5AKoOd8xL"
      },
      "outputs": [],
      "source": [
        "\n",
        "\n",
        "batch_size = 100\n",
        "num_outputs = 4\n",
        "epochs = 100\n",
        "#write your code here\n",
        "num_inputs =\n",
        "######\n",
        "input_shape = (num_inputs,)\n",
        "\n"
      ]
    },
    {
      "cell_type": "markdown",
      "metadata": {
        "id": "8-u5BIVcO2Lm"
      },
      "source": [
        "Question(50 points):\n",
        "Add neural network layers to match the model architecture.\n",
        "\n",
        "Architecture:\n",
        "\n",
        "hidden_layer1 (Dense) (None, 20)\n",
        "\n",
        "hidden_layer2 (Dense) (None, 20)\n",
        "\n",
        "hidden_layer3 (Dense) (None, 20)\n",
        "\n",
        "\n",
        "output (Dense) (None, 4)"
      ]
    },
    {
      "cell_type": "code",
      "execution_count": null,
      "metadata": {
        "id": "p_4FVonUB177"
      },
      "outputs": [],
      "source": [
        "model = Sequential()\n",
        "model.add(Dense(20, input_shape=input_shape, activation='relu', name='input'))\n",
        "#write your code here\n",
        "\n",
        "############\n"
      ]
    },
    {
      "cell_type": "markdown",
      "metadata": {
        "id": "xAUfaJxbK7KT"
      },
      "source": [
        "Question 3(40 points):\n",
        "\n",
        "Design model.compile and model.fit calls to train the model.\n",
        "\n",
        "1) model.compile should use mse(mean square error) as loss, adam() as optimizer with learning rate =0.05, and metrics as accuracy.\n",
        "\n",
        "2)model.fit should use epochs=100 and batch_size=100"
      ]
    },
    {
      "cell_type": "code",
      "execution_count": null,
      "metadata": {
        "id": "4TK5tpjtomO4"
      },
      "outputs": [],
      "source": [
        "#write your code here\n",
        "\n",
        "##############\n",
        "model.summary()"
      ]
    },
    {
      "cell_type": "code",
      "execution_count": null,
      "metadata": {
        "id": "HL9sKUrkgetY"
      },
      "outputs": [],
      "source": [
        "# Get the rescaled predictions for the test set and compute their deviation from the desired ones\n",
        "y_predict_norm = model.predict(x_test)\n",
        "\n",
        "\n",
        "y_predict = y_predict_norm * [12, 12, 3000, 300000] - [1, 1, 0, 100000]\n",
        "y_diff = y_predict - y_test\n",
        "y_stdev = np.std(y_diff, axis=0)\n",
        "\n",
        "print(y_stdev)\n",
        "\n",
        "plt.plot(y_predict[:50,1])\n",
        "plt.plot(y_test[:50,1])\n",
        "\n",
        "plt.show()\n"
      ]
    },
    {
      "cell_type": "code",
      "execution_count": null,
      "metadata": {
        "id": "QOdN3JYlvGuI"
      },
      "outputs": [],
      "source": []
    }
  ],
  "metadata": {
    "colab": {
      "provenance": []
    },
    "kernelspec": {
      "display_name": "Python 3",
      "name": "python3"
    },
    "language_info": {
      "codemirror_mode": {
        "name": "ipython",
        "version": 3
      },
      "file_extension": ".py",
      "mimetype": "text/x-python",
      "name": "python",
      "nbconvert_exporter": "python",
      "pygments_lexer": "ipython3",
      "version": "3.9.13"
    }
  },
  "nbformat": 4,
  "nbformat_minor": 0
}
